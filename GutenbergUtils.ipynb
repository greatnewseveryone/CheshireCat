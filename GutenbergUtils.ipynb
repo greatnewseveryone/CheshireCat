{
 "cells": [
  {
   "cell_type": "code",
   "execution_count": 11,
   "metadata": {
    "collapsed": true
   },
   "outputs": [],
   "source": [
    "import re, requests, os, time, random, csv, tqdm"
   ]
  },
  {
   "cell_type": "code",
   "execution_count": 7,
   "metadata": {
    "collapsed": true
   },
   "outputs": [],
   "source": [
    "def createBookBlocks(fn= './data/GUTINDEX.ALL.iso-8859-1.txt'):\n",
    "    gut_all= []\n",
    "    book_block= []\n",
    "    for line in open(fn):\n",
    "        if not line.rstrip():  # book end\n",
    "            if book_block: \n",
    "                gut_all.append(book_block)\n",
    "            book_block= []\n",
    "            continue\n",
    "        if line.rstrip()[-1].isdigit():  # new book\n",
    "            book_block.append(line.rstrip())\n",
    "        elif book_block:\n",
    "            book_block.append(line.rstrip())\n",
    "    return gut_all"
   ]
  },
  {
   "cell_type": "code",
   "execution_count": 25,
   "metadata": {
    "collapsed": true
   },
   "outputs": [],
   "source": [
    "def getBookInd(book_block):\n",
    "    return book_block[0].split()[-1]\n",
    "\n",
    "def getBookTitle(book_block):\n",
    "    return ' '.join(book_block[0].split()[:-1]).encode('ascii', 'ignore').decode()\n",
    "    \n",
    "def getBookText(book_ind):\n",
    "    base_url= 'http://gutenberg.readingroo.ms/{path}/{ind}/'.format(path='/'.join(book_ind[:-1]), ind=book_ind)\n",
    "    text_fnl= re.findall('>(\\S+.txt)', requests.get(base_url).text)\n",
    "    if text_fnl:\n",
    "        text_url= os.path.join(base_url, text_fnl[0])\n",
    "        time.sleep(random.random()/10)\n",
    "        req= requests.get(text_url)\n",
    "        if not req.status_code==200:\n",
    "            print( req.status_code)\n",
    "            print( text_url)\n",
    "            print( 'book_ind:%s'%book_ind)\n",
    "        return req.text.lower()\n",
    "    else:\n",
    "        return None\n",
    "\n"
   ]
  },
  {
   "cell_type": "code",
   "execution_count": 22,
   "metadata": {
    "collapsed": true
   },
   "outputs": [],
   "source": [
    "def getTextsMatchingKeywords(gut_all, \n",
    "                             keywords= [], \n",
    "                             outfn='./data/matchingTexts.csv', \n",
    "                             book_path_local='./data/texts'):\n",
    "    books= []\n",
    "    with open(outfn, 'w') as outf:\n",
    "        outc= csv.DictWriter(outf, fieldnames='ind,title,mathing'.split(','))\n",
    "        outc.writeheader()\n",
    "        for book_block in tqdm.tqdm(gut_all):\n",
    "            book_ind= getBookInd(book_block)\n",
    "            book_title= getBookTitle(book_block)\n",
    "            book_text= getBookText(book_ind)\n",
    "            if book_text:\n",
    "                matches= [s for s in keywords if s.lower() in book.text.lower()]\n",
    "                if matches:\n",
    "                    if book_path_local:\n",
    "                        open(os.path.join(book_path_local, book_ind+'.txt'), 'w').write(book_text.encode('ascii', 'ignore').decode())\n",
    "                    outc.writerow({'ind':int(book_ind), \n",
    "                                   'title':book_title, \n",
    "                                   'matching':';'.join(matches)})"
   ]
  },
  {
   "cell_type": "code",
   "execution_count": 27,
   "metadata": {
    "collapsed": true
   },
   "outputs": [],
   "source": [
    "def getTextsByAuthor(gut_all, author= 'Oscar Wilde', outfn='./data/matchingTexts.csv', book_path_local='./data/texts'):\n",
    "    books= []\n",
    "    with open(outfn, 'w') as outf:\n",
    "        outc= csv.DictWriter(outf, fieldnames='ind,title'.split(','))\n",
    "        outc.writeheader()\n",
    "        for book_block in tqdm.tqdm(gut_all):\n",
    "            if 'by %s'%author in book_block[0]:\n",
    "                book_ind= getBookInd(book_block)\n",
    "                book_title= getBookTitle(book_block)\n",
    "                book_text= getBookText(book_ind)\n",
    "                if book_text:\n",
    "                    if book_path_local:\n",
    "                        open(os.path.join(book_path_local, book_ind+'.txt'), 'w').write(book_text.encode('ascii', 'ignore').decode())\n",
    "                    outc.writerow({'ind':int(book_ind), \n",
    "                                   'title':book_title})"
   ]
  },
  {
   "cell_type": "code",
   "execution_count": 14,
   "metadata": {
    "collapsed": true
   },
   "outputs": [],
   "source": [
    "gut_ind= parseIndex()"
   ]
  },
  {
   "cell_type": "markdown",
   "metadata": {},
   "source": [
    "### Cheshire cat"
   ]
  },
  {
   "cell_type": "code",
   "execution_count": 5,
   "metadata": {
    "collapsed": true
   },
   "outputs": [],
   "source": [
    "keywords= set(['Cheshire %s'%i for i in 'cat,feline,tomcat,tom,kitten,mouser,puss,kitty,furball'.split(',')])"
   ]
  },
  {
   "cell_type": "code",
   "execution_count": null,
   "metadata": {
    "collapsed": true
   },
   "outputs": [],
   "source": [
    "getTextsMatchingKeywords(gut_ind, \n",
    "                         keywords,\n",
    "                         outfn='./data/matchingTexts.csv', \n",
    "                         book_path_local='./data/texts')"
   ]
  },
  {
   "cell_type": "markdown",
   "metadata": {},
   "source": [
    "### Oscar Wilde"
   ]
  },
  {
   "cell_type": "code",
   "execution_count": 28,
   "metadata": {},
   "outputs": [
    {
     "name": "stderr",
     "output_type": "stream",
     "text": [
      "\n",
      "  0%|          | 0/43022 [00:00<?, ?it/s]\u001b[A\n",
      "  9%|▊         | 3692/43022 [00:00<00:01, 30462.26it/s]\u001b[A\n",
      " 11%|█         | 4606/43022 [00:00<00:04, 8018.32it/s] \u001b[A\n",
      " 18%|█▊        | 7675/43022 [00:00<00:04, 8402.89it/s]\u001b[A\n",
      " 20%|█▉        | 8469/43022 [00:01<00:10, 3159.67it/s]\u001b[A\n",
      " 26%|██▌       | 11014/43022 [00:01<00:08, 3897.16it/s]\u001b[A\n",
      " 29%|██▉       | 12543/43022 [00:02<00:07, 4065.48it/s]\u001b[A\n",
      " 31%|███       | 13150/43022 [00:02<00:07, 3823.76it/s]\u001b[A\n",
      " 32%|███▏      | 13676/43022 [00:02<00:07, 3877.77it/s]\u001b[A\n",
      " 48%|████▊     | 20465/43022 [00:02<00:04, 5099.10it/s]\u001b[A\n",
      " 50%|████▉     | 21384/43022 [00:02<00:04, 4572.35it/s]\u001b[A\n",
      " 52%|█████▏    | 22552/43022 [00:03<00:04, 4447.30it/s]\u001b[A\n",
      " 58%|█████▊    | 25008/43022 [00:03<00:03, 5074.46it/s]\u001b[A\n",
      " 60%|█████▉    | 25692/43022 [00:03<00:04, 3853.09it/s]\u001b[A\n",
      " 61%|██████    | 26245/43022 [00:03<00:04, 3654.13it/s]\u001b[A\n",
      " 66%|██████▌   | 28415/43022 [00:04<00:03, 4304.74it/s]\u001b[A\n",
      " 67%|██████▋   | 28976/43022 [00:04<00:05, 2381.27it/s]\u001b[A\n",
      " 72%|███████▏  | 30886/43022 [00:04<00:03, 3162.65it/s]\u001b[A\n",
      " 73%|███████▎  | 31590/43022 [00:05<00:03, 3589.27it/s]\u001b[A\n",
      " 75%|███████▍  | 32240/43022 [00:05<00:03, 2997.84it/s]\u001b[A\n",
      " 78%|███████▊  | 33569/43022 [00:05<00:02, 3662.26it/s]\u001b[A\n",
      " 79%|███████▉  | 34161/43022 [00:05<00:03, 2919.88it/s]\u001b[A\n",
      " 91%|█████████ | 39087/43022 [00:06<00:01, 3862.83it/s]\u001b[A\n",
      " 97%|█████████▋| 41763/43022 [00:06<00:00, 4918.62it/s]\u001b[A\n",
      " 99%|█████████▉| 42732/43022 [00:10<00:00, 767.97it/s] \u001b[A\n",
      "100%|██████████| 43022/43022 [00:10<00:00, 4069.13it/s]\u001b[A"
     ]
    }
   ],
   "source": [
    "getTextsByAuthor(gut_ind, \n",
    "                 author= 'Oscar Wilde', \n",
    "                 outfn='./data/matchingTexts.csv', \n",
    "                 book_path_local='./data/texts_ow')"
   ]
  },
  {
   "cell_type": "code",
   "execution_count": null,
   "metadata": {
    "collapsed": true
   },
   "outputs": [],
   "source": []
  }
 ],
 "metadata": {
  "kernelspec": {
   "display_name": "Python 3",
   "language": "python",
   "name": "python3"
  },
  "language_info": {
   "codemirror_mode": {
    "name": "ipython",
    "version": 3
   },
   "file_extension": ".py",
   "mimetype": "text/x-python",
   "name": "python",
   "nbconvert_exporter": "python",
   "pygments_lexer": "ipython3",
   "version": "3.6.1"
  }
 },
 "nbformat": 4,
 "nbformat_minor": 2
}
